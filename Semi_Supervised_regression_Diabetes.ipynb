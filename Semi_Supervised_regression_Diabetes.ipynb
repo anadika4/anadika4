{
  "nbformat": 4,
  "nbformat_minor": 0,
  "metadata": {
    "colab": {
      "provenance": [],
      "authorship_tag": "ABX9TyOLjqZWuNhINqvOIzJHjICo"
    },
    "kernelspec": {
      "name": "python3",
      "display_name": "Python 3"
    },
    "language_info": {
      "name": "python"
    }
  },
  "cells": [
    {
      "cell_type": "markdown",
      "source": [
        "Import libraries"
      ],
      "metadata": {
        "id": "9sh58_2dDnFj"
      }
    },
    {
      "cell_type": "code",
      "source": [
        "import pandas as pd\n",
        "import numpy as np\n",
        "import matplotlib.pyplot as plt\n",
        "import seaborn as sns\n",
        "import warnings"
      ],
      "metadata": {
        "id": "_yxUF8wtDpNN"
      },
      "execution_count": 1,
      "outputs": []
    },
    {
      "cell_type": "markdown",
      "source": [
        "Load dataset"
      ],
      "metadata": {
        "id": "i4Q4SmmRD-on"
      }
    },
    {
      "cell_type": "code",
      "source": [
        "from sklearn.datasets import load_diabetes\n",
        "data = load_diabetes(as_frame=True)\n",
        "x=data.data\n",
        "y=data.target\n",
        "x.shape, y.shape\n",
        "\n",
        "\n"
      ],
      "metadata": {
        "id": "cEIAtoyRD_9c",
        "colab": {
          "base_uri": "https://localhost:8080/"
        },
        "outputId": "47cc1a0f-5ab1-4e7b-fdaa-746f7df40f38"
      },
      "execution_count": 3,
      "outputs": [
        {
          "output_type": "execute_result",
          "data": {
            "text/plain": [
              "((442, 10), (442,))"
            ]
          },
          "metadata": {},
          "execution_count": 3
        }
      ]
    },
    {
      "cell_type": "code",
      "source": [
        "df = x\n",
        "df['target']"
      ],
      "metadata": {
        "id": "J0OqsNNV0WRE"
      },
      "execution_count": null,
      "outputs": []
    }
  ]
}